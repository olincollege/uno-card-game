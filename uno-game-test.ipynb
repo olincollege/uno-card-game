{
 "cells": [
  {
   "cell_type": "code",
   "execution_count": 17,
   "metadata": {},
   "outputs": [],
   "source": [
    "from uno_deck import Deck"
   ]
  },
  {
   "cell_type": "code",
   "execution_count": 18,
   "metadata": {},
   "outputs": [],
   "source": [
    "Uno = Deck()"
   ]
  },
  {
   "cell_type": "code",
   "execution_count": 19,
   "metadata": {},
   "outputs": [],
   "source": [
    "#Uno.shuffle()"
   ]
  },
  {
   "cell_type": "code",
   "execution_count": 20,
   "metadata": {},
   "outputs": [
    {
     "output_type": "execute_result",
     "data": {
      "text/plain": [
       "[0 of Red,\n",
       " 1 of Red,\n",
       " 2 of Red,\n",
       " 3 of Red,\n",
       " 4 of Red,\n",
       " 5 of Red,\n",
       " 6 of Red,\n",
       " 7 of Red,\n",
       " 8 of Red,\n",
       " 9 of Red,\n",
       " Draw Two of Red,\n",
       " Reverse of Red,\n",
       " Skip of Red,\n",
       " 0 of Blue,\n",
       " 1 of Blue,\n",
       " 2 of Blue,\n",
       " 3 of Blue,\n",
       " 4 of Blue,\n",
       " 5 of Blue,\n",
       " 6 of Blue,\n",
       " 7 of Blue,\n",
       " 8 of Blue,\n",
       " 9 of Blue,\n",
       " Draw Two of Blue,\n",
       " Reverse of Blue,\n",
       " Skip of Blue,\n",
       " 0 of Green,\n",
       " 1 of Green,\n",
       " 2 of Green,\n",
       " 3 of Green,\n",
       " 4 of Green,\n",
       " 5 of Green,\n",
       " 6 of Green,\n",
       " 7 of Green,\n",
       " 8 of Green,\n",
       " 9 of Green,\n",
       " Draw Two of Green,\n",
       " Reverse of Green,\n",
       " Skip of Green,\n",
       " 0 of Yellow,\n",
       " 1 of Yellow,\n",
       " 2 of Yellow,\n",
       " 3 of Yellow,\n",
       " 4 of Yellow,\n",
       " 5 of Yellow,\n",
       " 6 of Yellow,\n",
       " 7 of Yellow,\n",
       " 8 of Yellow,\n",
       " 9 of Yellow,\n",
       " Draw Two of Yellow,\n",
       " Reverse of Yellow,\n",
       " Skip of Yellow]"
      ]
     },
     "metadata": {},
     "execution_count": 20
    }
   ],
   "source": [
    "Uno.cards"
   ]
  },
  {
   "cell_type": "code",
   "execution_count": null,
   "metadata": {},
   "outputs": [],
   "source": []
  }
 ],
 "metadata": {
  "kernelspec": {
   "name": "python385jvsc74a57bd0260690d7ac04fdbcd9c6f8efa93e31d8a25398d3e23f9493d65478f1ac089f35",
   "display_name": "Python 3.8.5 64-bit ('base': conda)"
  },
  "language_info": {
   "codemirror_mode": {
    "name": "ipython",
    "version": 3
   },
   "file_extension": ".py",
   "mimetype": "text/x-python",
   "name": "python",
   "nbconvert_exporter": "python",
   "pygments_lexer": "ipython3",
   "version": "3.8.5"
  },
  "metadata": {
   "interpreter": {
    "hash": "260690d7ac04fdbcd9c6f8efa93e31d8a25398d3e23f9493d65478f1ac089f35"
   }
  }
 },
 "nbformat": 4,
 "nbformat_minor": 4
}