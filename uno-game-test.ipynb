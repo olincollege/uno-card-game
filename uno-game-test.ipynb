{
 "cells": [
  {
   "cell_type": "code",
   "execution_count": 1,
   "metadata": {},
   "outputs": [],
   "source": [
    "%load_ext autoreload\n",
    "%autoreload 2"
   ]
  },
  {
   "cell_type": "code",
   "execution_count": 2,
   "metadata": {},
   "outputs": [],
   "source": [
    "from uno_deck import Deck\n",
    "from uno_deck import Player"
   ]
  },
  {
   "cell_type": "code",
   "execution_count": 3,
   "metadata": {},
   "outputs": [],
   "source": [
    "Uno = Deck()"
   ]
  },
  {
   "cell_type": "code",
   "execution_count": 4,
   "metadata": {},
   "outputs": [
    {
     "output_type": "stream",
     "name": "stdout",
     "text": [
      "[Wild Draw 4, Red 9, Red 8, Yellow 6, Wild Draw 4, Green 3, Blue 3, Yellow 7, Blue 6, Blue 1, Blue 9, Red 4, Blue 7, Yellow Reverse, Green 7, Red Reverse, Yellow Draw Two, Red 3, Red 6, Red Skip, Green 1, Green 2, Red 1, Yellow 8, Blue 4, Red Reverse, Green 4, Blue 6, Green 8, Wild Draw 4, Yellow Draw Two, Green 4, Red 5, Yellow 4, Wild Card, Red 2, Green 0, Yellow 5, Yellow 9, Blue 5, Blue 5, Yellow Skip, Green 9, Wild Card, Green 7, Wild Card, Red 1, Blue 2, Wild Card, Blue Skip, Yellow 3, Yellow 2, Blue 1, Green Skip, Yellow 0, Red 0, Blue Draw Two, Blue 9, Red 9, Yellow 9, Blue Skip, Blue Reverse, Yellow 3, Yellow 1, Yellow Reverse, Red 4, Red Draw Two, Green 6, Blue Reverse, Yellow 8, Wild Card, Red Skip, Green 1, Blue 8, Red 8, Blue 8, Wild Card, Yellow 5, Wild Card, Red 7, Blue 4, Green 3, Blue 7, Wild Card, Green 5, Yellow 1, Yellow 7, Wild Draw 4, Blue 3, Red 7, Green 6, Red Draw Two, Blue 2, Green Reverse, Green Draw Two, Green Draw Two, Blue Draw Two, Red 2, Yellow 4, Green 8, Blue 0, Green Reverse, Green 5, Yellow Skip, Green Skip, Green 9, Green 2, Yellow 6, Red 6, Red 3, Red 5, Yellow 2]\n"
     ]
    }
   ],
   "source": [
    "Uno.shuffle()\n",
    "print(Uno.cards)"
   ]
  },
  {
   "cell_type": "code",
   "execution_count": 5,
   "metadata": {},
   "outputs": [
    {
     "output_type": "execute_result",
     "data": {
      "text/plain": [
       "[Wild Draw 4,\n",
       " Red 9,\n",
       " Red 8,\n",
       " Yellow 6,\n",
       " Wild Draw 4,\n",
       " Green 3,\n",
       " Blue 3,\n",
       " Yellow 7,\n",
       " Blue 6,\n",
       " Blue 1,\n",
       " Blue 9,\n",
       " Red 4,\n",
       " Blue 7,\n",
       " Yellow Reverse,\n",
       " Green 7,\n",
       " Red Reverse,\n",
       " Yellow Draw Two,\n",
       " Red 3,\n",
       " Red 6,\n",
       " Red Skip,\n",
       " Green 1,\n",
       " Green 2,\n",
       " Red 1,\n",
       " Yellow 8,\n",
       " Blue 4,\n",
       " Red Reverse,\n",
       " Green 4,\n",
       " Blue 6,\n",
       " Green 8,\n",
       " Wild Draw 4,\n",
       " Yellow Draw Two,\n",
       " Green 4,\n",
       " Red 5,\n",
       " Yellow 4,\n",
       " Wild Card,\n",
       " Red 2,\n",
       " Green 0,\n",
       " Yellow 5,\n",
       " Yellow 9,\n",
       " Blue 5,\n",
       " Blue 5,\n",
       " Yellow Skip,\n",
       " Green 9,\n",
       " Wild Card,\n",
       " Green 7,\n",
       " Wild Card,\n",
       " Red 1,\n",
       " Blue 2,\n",
       " Wild Card,\n",
       " Blue Skip,\n",
       " Yellow 3,\n",
       " Yellow 2,\n",
       " Blue 1,\n",
       " Green Skip,\n",
       " Yellow 0,\n",
       " Red 0,\n",
       " Blue Draw Two,\n",
       " Blue 9,\n",
       " Red 9,\n",
       " Yellow 9,\n",
       " Blue Skip,\n",
       " Blue Reverse,\n",
       " Yellow 3,\n",
       " Yellow 1,\n",
       " Yellow Reverse,\n",
       " Red 4,\n",
       " Red Draw Two,\n",
       " Green 6,\n",
       " Blue Reverse,\n",
       " Yellow 8,\n",
       " Wild Card,\n",
       " Red Skip,\n",
       " Green 1,\n",
       " Blue 8,\n",
       " Red 8,\n",
       " Blue 8,\n",
       " Wild Card,\n",
       " Yellow 5,\n",
       " Wild Card,\n",
       " Red 7,\n",
       " Blue 4,\n",
       " Green 3,\n",
       " Blue 7,\n",
       " Wild Card,\n",
       " Green 5,\n",
       " Yellow 1,\n",
       " Yellow 7,\n",
       " Wild Draw 4,\n",
       " Blue 3,\n",
       " Red 7,\n",
       " Green 6,\n",
       " Red Draw Two,\n",
       " Blue 2,\n",
       " Green Reverse,\n",
       " Green Draw Two,\n",
       " Green Draw Two,\n",
       " Blue Draw Two,\n",
       " Red 2,\n",
       " Yellow 4,\n",
       " Green 8,\n",
       " Blue 0,\n",
       " Green Reverse,\n",
       " Green 5,\n",
       " Yellow Skip,\n",
       " Green Skip,\n",
       " Green 9,\n",
       " Green 2,\n",
       " Yellow 6,\n",
       " Red 6,\n",
       " Red 3,\n",
       " Red 5,\n",
       " Yellow 2]"
      ]
     },
     "metadata": {},
     "execution_count": 5
    }
   ],
   "source": [
    "Uno.cards"
   ]
  },
  {
   "cell_type": "code",
   "execution_count": 6,
   "metadata": {},
   "outputs": [
    {
     "output_type": "stream",
     "name": "stdout",
     "text": [
      "[Wild Draw 4, Red 9, Red 8, Yellow 6, Wild Draw 4, Green 3, Blue 3]\n"
     ]
    }
   ],
   "source": [
    "player_1 = Player(Uno)\n",
    "print(player_1._hand)"
   ]
  },
  {
   "cell_type": "code",
   "execution_count": 7,
   "metadata": {},
   "outputs": [
    {
     "output_type": "execute_result",
     "data": {
      "text/plain": [
       "[Yellow 7,\n",
       " Blue 6,\n",
       " Blue 1,\n",
       " Blue 9,\n",
       " Red 4,\n",
       " Blue 7,\n",
       " Yellow Reverse,\n",
       " Green 7,\n",
       " Red Reverse,\n",
       " Yellow Draw Two,\n",
       " Red 3,\n",
       " Red 6,\n",
       " Red Skip,\n",
       " Green 1,\n",
       " Green 2,\n",
       " Red 1,\n",
       " Yellow 8,\n",
       " Blue 4,\n",
       " Red Reverse,\n",
       " Green 4,\n",
       " Blue 6,\n",
       " Green 8,\n",
       " Wild Draw 4,\n",
       " Yellow Draw Two,\n",
       " Green 4,\n",
       " Red 5,\n",
       " Yellow 4,\n",
       " Wild Card,\n",
       " Red 2,\n",
       " Green 0,\n",
       " Yellow 5,\n",
       " Yellow 9,\n",
       " Blue 5,\n",
       " Blue 5,\n",
       " Yellow Skip,\n",
       " Green 9,\n",
       " Wild Card,\n",
       " Green 7,\n",
       " Wild Card,\n",
       " Red 1,\n",
       " Blue 2,\n",
       " Wild Card,\n",
       " Blue Skip,\n",
       " Yellow 3,\n",
       " Yellow 2,\n",
       " Blue 1,\n",
       " Green Skip,\n",
       " Yellow 0,\n",
       " Red 0,\n",
       " Blue Draw Two,\n",
       " Blue 9,\n",
       " Red 9,\n",
       " Yellow 9,\n",
       " Blue Skip,\n",
       " Blue Reverse,\n",
       " Yellow 3,\n",
       " Yellow 1,\n",
       " Yellow Reverse,\n",
       " Red 4,\n",
       " Red Draw Two,\n",
       " Green 6,\n",
       " Blue Reverse,\n",
       " Yellow 8,\n",
       " Wild Card,\n",
       " Red Skip,\n",
       " Green 1,\n",
       " Blue 8,\n",
       " Red 8,\n",
       " Blue 8,\n",
       " Wild Card,\n",
       " Yellow 5,\n",
       " Wild Card,\n",
       " Red 7,\n",
       " Blue 4,\n",
       " Green 3,\n",
       " Blue 7,\n",
       " Wild Card,\n",
       " Green 5,\n",
       " Yellow 1,\n",
       " Yellow 7,\n",
       " Wild Draw 4,\n",
       " Blue 3,\n",
       " Red 7,\n",
       " Green 6,\n",
       " Red Draw Two,\n",
       " Blue 2,\n",
       " Green Reverse,\n",
       " Green Draw Two,\n",
       " Green Draw Two,\n",
       " Blue Draw Two,\n",
       " Red 2,\n",
       " Yellow 4,\n",
       " Green 8,\n",
       " Blue 0,\n",
       " Green Reverse,\n",
       " Green 5,\n",
       " Yellow Skip,\n",
       " Green Skip,\n",
       " Green 9,\n",
       " Green 2,\n",
       " Yellow 6,\n",
       " Red 6,\n",
       " Red 3,\n",
       " Red 5,\n",
       " Yellow 2]"
      ]
     },
     "metadata": {},
     "execution_count": 7
    }
   ],
   "source": [
    "Uno.cards"
   ]
  },
  {
   "cell_type": "code",
   "execution_count": 8,
   "metadata": {},
   "outputs": [
    {
     "output_type": "execute_result",
     "data": {
      "text/plain": [
       "[Wild Draw 4, Red 9, Red 8, Yellow 6, Wild Draw 4, Green 3, Blue 3]"
      ]
     },
     "metadata": {},
     "execution_count": 8
    }
   ],
   "source": [
    "player_1.hand"
   ]
  },
  {
   "cell_type": "code",
   "execution_count": 9,
   "metadata": {},
   "outputs": [
    {
     "output_type": "execute_result",
     "data": {
      "text/plain": [
       "[]"
      ]
     },
     "metadata": {},
     "execution_count": 9
    }
   ],
   "source": [
    "Uno.middle"
   ]
  },
  {
   "cell_type": "code",
   "execution_count": 10,
   "metadata": {},
   "outputs": [
    {
     "output_type": "stream",
     "name": "stdout",
     "text": [
      "This is the card in the middle Yellow 7\n"
     ]
    }
   ],
   "source": [
    "Uno.game_start()"
   ]
  },
  {
   "cell_type": "code",
   "execution_count": 11,
   "metadata": {},
   "outputs": [
    {
     "output_type": "execute_result",
     "data": {
      "text/plain": [
       "[Yellow 7]"
      ]
     },
     "metadata": {},
     "execution_count": 11
    }
   ],
   "source": [
    "Uno.middle"
   ]
  },
  {
   "cell_type": "code",
   "execution_count": 18,
   "metadata": {},
   "outputs": [
    {
     "output_type": "stream",
     "name": "stdout",
     "text": [
      "Successful card play\n[Wild Draw 4, Red 9, Red 8, Yellow 6, Wild Draw 4, Green 3, Blue 3]\n[Wild Draw 4, Red 9, Red 8, Wild Draw 4, Green 3, Blue 3]\n[Yellow 6, Yellow 7]\n"
     ]
    }
   ],
   "source": [
    "player_1.play_card(player_1.hand[3])"
   ]
  },
  {
   "cell_type": "code",
   "execution_count": 19,
   "metadata": {},
   "outputs": [
    {
     "output_type": "stream",
     "name": "stdout",
     "text": [
      "Successful card play\n[Wild Draw 4, Red 9, Red 8, Wild Draw 4, Green 3, Blue 3]\n[Red 9, Red 8, Wild Draw 4, Green 3, Blue 3]\n[Wild Draw 4, Yellow 6, Yellow 7]\n"
     ]
    }
   ],
   "source": [
    "player_1.play_card(player_1.hand[0])"
   ]
  },
  {
   "cell_type": "code",
   "execution_count": 20,
   "metadata": {},
   "outputs": [
    {
     "output_type": "stream",
     "name": "stdout",
     "text": [
      "Successful card play\n[Red 9, Red 8, Wild Draw 4, Green 3, Blue 3]\n[Red 8, Wild Draw 4, Green 3, Blue 3]\n[Red 9, Wild Draw 4, Yellow 6, Yellow 7]\n"
     ]
    }
   ],
   "source": [
    "player_1.play_card(player_1.hand[0])"
   ]
  },
  {
   "cell_type": "code",
   "execution_count": 26,
   "metadata": {},
   "outputs": [
    {
     "output_type": "stream",
     "name": "stdout",
     "text": [
      "14\n[range(10, 15)]\n"
     ]
    },
    {
     "output_type": "execute_result",
     "data": {
      "text/plain": [
       "True"
      ]
     },
     "metadata": {},
     "execution_count": 26
    }
   ],
   "source": [
    "Uno.check_action(player_1.hand[1])"
   ]
  },
  {
   "cell_type": "code",
   "execution_count": 23,
   "metadata": {},
   "outputs": [
    {
     "output_type": "execute_result",
     "data": {
      "text/plain": [
       "Wild Draw 4"
      ]
     },
     "metadata": {},
     "execution_count": 23
    }
   ],
   "source": [
    "player_1.hand[1]"
   ]
  },
  {
   "cell_type": "code",
   "execution_count": 14,
   "metadata": {},
   "outputs": [],
   "source": [
    "Uno2=Deck()"
   ]
  },
  {
   "cell_type": "code",
   "execution_count": 15,
   "metadata": {},
   "outputs": [
    {
     "output_type": "stream",
     "name": "stdout",
     "text": [
      "[Red 2, Blue 3, Yellow 2, Blue 9, Red 1, Green 9, Blue Draw Two, Yellow Draw Two, Red 4, Red 9, Red Reverse, Red 4, Blue 7, Yellow 4, Wild Card, Green 5, Red 5, Red 2, Blue 6, Green 1, Wild Card, Yellow 8, Yellow 5, Green 6, Red 9, Red Reverse, Blue 3, Wild Draw 4, Yellow 7, Blue 2, Wild Card, Green 1, Green 6, Blue 8, Blue 7, Blue Skip, Wild Card, Green 7, Red Draw Two, Green 2, Red 7, Green Skip, Yellow 4, Green 4, Yellow 9, Yellow Reverse, Wild Draw 4, Blue 4, Red 6, Yellow Reverse, Red 0, Wild Card, Green 8, Red 1, Blue 6, Red 3, Blue 1, Red Skip, Green 2, Green Skip, Red Draw Two, Yellow 6, Green Reverse, Yellow 1, Red 5, Wild Draw 4, Green 9, Blue Reverse, Green Draw Two, Blue 2, Red 8, Green Draw Two, Yellow 0, Blue Reverse, Blue 4, Red 7, Blue Draw Two, Blue 1, Blue 0, Red 3, Yellow 1, Wild Card, Yellow 3, Green 7, Red 6, Wild Draw 4, Yellow Draw Two, Yellow Skip, Green 5, Yellow Skip, Blue 5, Blue 8, Wild Card, Green 0, Green Reverse, Green 4, Blue 9, Yellow 2, Yellow 9, Yellow 3, Blue 5, Red Skip, Red 8, Yellow 5, Green 3, Wild Card, Yellow 6, Yellow 8, Green 8, Yellow 7, Green 3, Blue Skip]\n"
     ]
    }
   ],
   "source": [
    "Uno2.shuffle()\n",
    "print(Uno2.cards)"
   ]
  },
  {
   "cell_type": "code",
   "execution_count": 16,
   "metadata": {},
   "outputs": [
    {
     "output_type": "stream",
     "name": "stdout",
     "text": [
      "This is the card in the middle Red 2\n[Blue 3, Yellow 2, Blue 9, Red 1, Green 9, Blue Draw Two, Yellow Draw Two, Red 4, Red 9, Red Reverse, Red 4, Blue 7, Yellow 4, Wild Card, Green 5, Red 5, Red 2, Blue 6, Green 1, Wild Card, Yellow 8, Yellow 5, Green 6, Red 9, Red Reverse, Blue 3, Wild Draw 4, Yellow 7, Blue 2, Wild Card, Green 1, Green 6, Blue 8, Blue 7, Blue Skip, Wild Card, Green 7, Red Draw Two, Green 2, Red 7, Green Skip, Yellow 4, Green 4, Yellow 9, Yellow Reverse, Wild Draw 4, Blue 4, Red 6, Yellow Reverse, Red 0, Wild Card, Green 8, Red 1, Blue 6, Red 3, Blue 1, Red Skip, Green 2, Green Skip, Red Draw Two, Yellow 6, Green Reverse, Yellow 1, Red 5, Wild Draw 4, Green 9, Blue Reverse, Green Draw Two, Blue 2, Red 8, Green Draw Two, Yellow 0, Blue Reverse, Blue 4, Red 7, Blue Draw Two, Blue 1, Blue 0, Red 3, Yellow 1, Wild Card, Yellow 3, Green 7, Red 6, Wild Draw 4, Yellow Draw Two, Yellow Skip, Green 5, Yellow Skip, Blue 5, Blue 8, Wild Card, Green 0, Green Reverse, Green 4, Blue 9, Yellow 2, Yellow 9, Yellow 3, Blue 5, Red Skip, Red 8, Yellow 5, Green 3, Wild Card, Yellow 6, Yellow 8, Green 8, Yellow 7, Green 3, Blue Skip]\n"
     ]
    }
   ],
   "source": [
    "Uno2.game_start()\n",
    "print(Uno2.cards)"
   ]
  },
  {
   "cell_type": "code",
   "execution_count": 17,
   "metadata": {},
   "outputs": [
    {
     "output_type": "execute_result",
     "data": {
      "text/plain": [
       "[Red 2]"
      ]
     },
     "metadata": {},
     "execution_count": 17
    }
   ],
   "source": [
    "Uno2.middle"
   ]
  },
  {
   "cell_type": "code",
   "execution_count": null,
   "metadata": {},
   "outputs": [],
   "source": []
  }
 ],
 "metadata": {
  "kernelspec": {
   "name": "python385jvsc74a57bd0260690d7ac04fdbcd9c6f8efa93e31d8a25398d3e23f9493d65478f1ac089f35",
   "display_name": "Python 3.8.5 64-bit ('base': conda)"
  },
  "language_info": {
   "codemirror_mode": {
    "name": "ipython",
    "version": 3
   },
   "file_extension": ".py",
   "mimetype": "text/x-python",
   "name": "python",
   "nbconvert_exporter": "python",
   "pygments_lexer": "ipython3",
   "version": "3.8.5"
  },
  "metadata": {
   "interpreter": {
    "hash": "260690d7ac04fdbcd9c6f8efa93e31d8a25398d3e23f9493d65478f1ac089f35"
   }
  }
 },
 "nbformat": 4,
 "nbformat_minor": 4
}