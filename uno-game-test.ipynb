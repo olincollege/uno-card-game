{
 "cells": [
  {
   "cell_type": "code",
   "execution_count": 44,
   "metadata": {},
   "outputs": [
    {
     "output_type": "stream",
     "name": "stdout",
     "text": [
      "The autoreload extension is already loaded. To reload it, use:\n  %reload_ext autoreload\n"
     ]
    }
   ],
   "source": [
    "%load_ext autoreload\n",
    "%autoreload 2"
   ]
  },
  {
   "cell_type": "code",
   "execution_count": 45,
   "metadata": {},
   "outputs": [],
   "source": [
    "from uno_deck import Deck\n",
    "from uno_deck import Player"
   ]
  },
  {
   "cell_type": "code",
   "execution_count": 46,
   "metadata": {},
   "outputs": [],
   "source": [
    "Uno = Deck()"
   ]
  },
  {
   "cell_type": "code",
   "execution_count": 47,
   "metadata": {},
   "outputs": [
    {
     "output_type": "stream",
     "name": "stdout",
     "text": [
      "[Red 9, Wild Draw 4, Yellow 9, Red 2, Yellow 5, Wild Wild, Red 5, Yellow 9, Blue 3, Red 0, Yellow 2, Green 3, Yellow 4, Green 1, Blue 8, Wild Wild, Yellow 7, Red 7, Wild Wild, Yellow 2, Red 8, Green 4, Red Skip, Red 5, Yellow 0, Yellow 1, Blue 5, Blue Reverse, Green 7, Green Draw Two, Green 5, Wild Wild, Red 3, Wild Wild, Red Draw Two, Blue 2, Yellow 6, Blue 0, Blue 9, Blue Skip, Green 5, Red 4, Red 8, Green 1, Yellow 8, Blue 8, Green 9, Red 6, Blue 9, Yellow Draw Two, Blue 6, Yellow Skip, Blue Skip, Green Skip, Green 8, Blue 2, Yellow 5, Yellow 3, Green 3, Green 2, Green Reverse, Red 3, Yellow 8, Red 9, Red 4, Yellow Draw Two, Blue 3, Green 2, Red Reverse, Yellow 6, Red 1, Yellow 4, Blue Draw Two, Green 0, Red 6, Yellow 3, Green 6, Green Draw Two, Blue 5, Blue Draw Two, Green 8, Red Reverse, Yellow Skip, Blue 4, Wild Wild, Red 1, Wild Draw 4, Blue 6, Wild Draw 4, Green 6, Yellow Reverse, Yellow 1, Green Reverse, Red 2, Green Skip, Yellow Reverse, Green 7, Red Skip, Green 9, Blue 4, Blue 7, Green 4, Wild Wild, Blue 7, Red Draw Two, Wild Draw 4, Wild Wild, Blue Reverse, Blue 1, Yellow 7, Red 7, Blue 1]\n"
     ]
    }
   ],
   "source": [
    "Uno.shuffle()\n",
    "print(Uno.cards)"
   ]
  },
  {
   "cell_type": "code",
   "execution_count": 48,
   "metadata": {},
   "outputs": [
    {
     "output_type": "execute_result",
     "data": {
      "text/plain": [
       "[Red 9,\n",
       " Wild Draw 4,\n",
       " Yellow 9,\n",
       " Red 2,\n",
       " Yellow 5,\n",
       " Wild Wild,\n",
       " Red 5,\n",
       " Yellow 9,\n",
       " Blue 3,\n",
       " Red 0,\n",
       " Yellow 2,\n",
       " Green 3,\n",
       " Yellow 4,\n",
       " Green 1,\n",
       " Blue 8,\n",
       " Wild Wild,\n",
       " Yellow 7,\n",
       " Red 7,\n",
       " Wild Wild,\n",
       " Yellow 2,\n",
       " Red 8,\n",
       " Green 4,\n",
       " Red Skip,\n",
       " Red 5,\n",
       " Yellow 0,\n",
       " Yellow 1,\n",
       " Blue 5,\n",
       " Blue Reverse,\n",
       " Green 7,\n",
       " Green Draw Two,\n",
       " Green 5,\n",
       " Wild Wild,\n",
       " Red 3,\n",
       " Wild Wild,\n",
       " Red Draw Two,\n",
       " Blue 2,\n",
       " Yellow 6,\n",
       " Blue 0,\n",
       " Blue 9,\n",
       " Blue Skip,\n",
       " Green 5,\n",
       " Red 4,\n",
       " Red 8,\n",
       " Green 1,\n",
       " Yellow 8,\n",
       " Blue 8,\n",
       " Green 9,\n",
       " Red 6,\n",
       " Blue 9,\n",
       " Yellow Draw Two,\n",
       " Blue 6,\n",
       " Yellow Skip,\n",
       " Blue Skip,\n",
       " Green Skip,\n",
       " Green 8,\n",
       " Blue 2,\n",
       " Yellow 5,\n",
       " Yellow 3,\n",
       " Green 3,\n",
       " Green 2,\n",
       " Green Reverse,\n",
       " Red 3,\n",
       " Yellow 8,\n",
       " Red 9,\n",
       " Red 4,\n",
       " Yellow Draw Two,\n",
       " Blue 3,\n",
       " Green 2,\n",
       " Red Reverse,\n",
       " Yellow 6,\n",
       " Red 1,\n",
       " Yellow 4,\n",
       " Blue Draw Two,\n",
       " Green 0,\n",
       " Red 6,\n",
       " Yellow 3,\n",
       " Green 6,\n",
       " Green Draw Two,\n",
       " Blue 5,\n",
       " Blue Draw Two,\n",
       " Green 8,\n",
       " Red Reverse,\n",
       " Yellow Skip,\n",
       " Blue 4,\n",
       " Wild Wild,\n",
       " Red 1,\n",
       " Wild Draw 4,\n",
       " Blue 6,\n",
       " Wild Draw 4,\n",
       " Green 6,\n",
       " Yellow Reverse,\n",
       " Yellow 1,\n",
       " Green Reverse,\n",
       " Red 2,\n",
       " Green Skip,\n",
       " Yellow Reverse,\n",
       " Green 7,\n",
       " Red Skip,\n",
       " Green 9,\n",
       " Blue 4,\n",
       " Blue 7,\n",
       " Green 4,\n",
       " Wild Wild,\n",
       " Blue 7,\n",
       " Red Draw Two,\n",
       " Wild Draw 4,\n",
       " Wild Wild,\n",
       " Blue Reverse,\n",
       " Blue 1,\n",
       " Yellow 7,\n",
       " Red 7,\n",
       " Blue 1]"
      ]
     },
     "metadata": {},
     "execution_count": 48
    }
   ],
   "source": [
    "Uno.cards"
   ]
  },
  {
   "cell_type": "code",
   "execution_count": 49,
   "metadata": {},
   "outputs": [
    {
     "output_type": "stream",
     "name": "stdout",
     "text": [
      "[Red 9, Wild Draw 4, Yellow 9, Red 2, Yellow 5, Wild Wild, Red 5]\n"
     ]
    }
   ],
   "source": [
    "player_1 = Player(Uno)\n",
    "print(player_1._hand)"
   ]
  },
  {
   "cell_type": "code",
   "execution_count": 50,
   "metadata": {},
   "outputs": [
    {
     "output_type": "execute_result",
     "data": {
      "text/plain": [
       "[Yellow 9,\n",
       " Blue 3,\n",
       " Red 0,\n",
       " Yellow 2,\n",
       " Green 3,\n",
       " Yellow 4,\n",
       " Green 1,\n",
       " Blue 8,\n",
       " Wild Wild,\n",
       " Yellow 7,\n",
       " Red 7,\n",
       " Wild Wild,\n",
       " Yellow 2,\n",
       " Red 8,\n",
       " Green 4,\n",
       " Red Skip,\n",
       " Red 5,\n",
       " Yellow 0,\n",
       " Yellow 1,\n",
       " Blue 5,\n",
       " Blue Reverse,\n",
       " Green 7,\n",
       " Green Draw Two,\n",
       " Green 5,\n",
       " Wild Wild,\n",
       " Red 3,\n",
       " Wild Wild,\n",
       " Red Draw Two,\n",
       " Blue 2,\n",
       " Yellow 6,\n",
       " Blue 0,\n",
       " Blue 9,\n",
       " Blue Skip,\n",
       " Green 5,\n",
       " Red 4,\n",
       " Red 8,\n",
       " Green 1,\n",
       " Yellow 8,\n",
       " Blue 8,\n",
       " Green 9,\n",
       " Red 6,\n",
       " Blue 9,\n",
       " Yellow Draw Two,\n",
       " Blue 6,\n",
       " Yellow Skip,\n",
       " Blue Skip,\n",
       " Green Skip,\n",
       " Green 8,\n",
       " Blue 2,\n",
       " Yellow 5,\n",
       " Yellow 3,\n",
       " Green 3,\n",
       " Green 2,\n",
       " Green Reverse,\n",
       " Red 3,\n",
       " Yellow 8,\n",
       " Red 9,\n",
       " Red 4,\n",
       " Yellow Draw Two,\n",
       " Blue 3,\n",
       " Green 2,\n",
       " Red Reverse,\n",
       " Yellow 6,\n",
       " Red 1,\n",
       " Yellow 4,\n",
       " Blue Draw Two,\n",
       " Green 0,\n",
       " Red 6,\n",
       " Yellow 3,\n",
       " Green 6,\n",
       " Green Draw Two,\n",
       " Blue 5,\n",
       " Blue Draw Two,\n",
       " Green 8,\n",
       " Red Reverse,\n",
       " Yellow Skip,\n",
       " Blue 4,\n",
       " Wild Wild,\n",
       " Red 1,\n",
       " Wild Draw 4,\n",
       " Blue 6,\n",
       " Wild Draw 4,\n",
       " Green 6,\n",
       " Yellow Reverse,\n",
       " Yellow 1,\n",
       " Green Reverse,\n",
       " Red 2,\n",
       " Green Skip,\n",
       " Yellow Reverse,\n",
       " Green 7,\n",
       " Red Skip,\n",
       " Green 9,\n",
       " Blue 4,\n",
       " Blue 7,\n",
       " Green 4,\n",
       " Wild Wild,\n",
       " Blue 7,\n",
       " Red Draw Two,\n",
       " Wild Draw 4,\n",
       " Wild Wild,\n",
       " Blue Reverse,\n",
       " Blue 1,\n",
       " Yellow 7,\n",
       " Red 7,\n",
       " Blue 1]"
      ]
     },
     "metadata": {},
     "execution_count": 50
    }
   ],
   "source": [
    "Uno.cards"
   ]
  },
  {
   "cell_type": "code",
   "execution_count": 51,
   "metadata": {},
   "outputs": [
    {
     "output_type": "execute_result",
     "data": {
      "text/plain": [
       "[Red 9, Wild Draw 4, Yellow 9, Red 2, Yellow 5, Wild Wild, Red 5]"
      ]
     },
     "metadata": {},
     "execution_count": 51
    }
   ],
   "source": [
    "player_1.hand"
   ]
  },
  {
   "cell_type": "code",
   "execution_count": 52,
   "metadata": {},
   "outputs": [
    {
     "output_type": "execute_result",
     "data": {
      "text/plain": [
       "[]"
      ]
     },
     "metadata": {},
     "execution_count": 52
    }
   ],
   "source": [
    "Uno.middle"
   ]
  },
  {
   "cell_type": "code",
   "execution_count": 54,
   "metadata": {},
   "outputs": [
    {
     "output_type": "stream",
     "name": "stdout",
     "text": [
      "This is the card in the middle Yellow 9\n"
     ]
    }
   ],
   "source": [
    "Uno.game_start()"
   ]
  },
  {
   "cell_type": "code",
   "execution_count": 55,
   "metadata": {},
   "outputs": [
    {
     "output_type": "execute_result",
     "data": {
      "text/plain": [
       "[Yellow 9]"
      ]
     },
     "metadata": {},
     "execution_count": 55
    }
   ],
   "source": [
    "Uno.middle"
   ]
  },
  {
   "cell_type": "code",
   "execution_count": 56,
   "metadata": {},
   "outputs": [
    {
     "output_type": "stream",
     "name": "stdout",
     "text": [
      "Red 2 is not in your hand, your hand is [Red 9, Wild Draw 4, Yellow 9, Red 2, Yellow 5, Wild Wild, Red 5]\n"
     ]
    }
   ],
   "source": [
    "player_1.play_card(player_1.hand[3])"
   ]
  },
  {
   "cell_type": "code",
   "execution_count": 57,
   "metadata": {},
   "outputs": [
    {
     "output_type": "stream",
     "name": "stdout",
     "text": [
      "Successful card play\n[Red 9, Wild Draw 4, Yellow 9, Red 2, Yellow 5, Wild Wild, Red 5]\n[Red 9, Wild Draw 4, Yellow 9, Red 2, Wild Wild, Red 5]\n[Yellow 5, Yellow 9]\n"
     ]
    }
   ],
   "source": [
    "player_1.play_card(player_1.hand[4])"
   ]
  },
  {
   "cell_type": "code",
   "execution_count": null,
   "metadata": {},
   "outputs": [],
   "source": []
  }
 ],
 "metadata": {
  "kernelspec": {
   "name": "python385jvsc74a57bd0260690d7ac04fdbcd9c6f8efa93e31d8a25398d3e23f9493d65478f1ac089f35",
   "display_name": "Python 3.8.5 64-bit ('base': conda)"
  },
  "language_info": {
   "codemirror_mode": {
    "name": "ipython",
    "version": 3
   },
   "file_extension": ".py",
   "mimetype": "text/x-python",
   "name": "python",
   "nbconvert_exporter": "python",
   "pygments_lexer": "ipython3",
   "version": "3.8.5"
  },
  "metadata": {
   "interpreter": {
    "hash": "260690d7ac04fdbcd9c6f8efa93e31d8a25398d3e23f9493d65478f1ac089f35"
   }
  }
 },
 "nbformat": 4,
 "nbformat_minor": 4
}