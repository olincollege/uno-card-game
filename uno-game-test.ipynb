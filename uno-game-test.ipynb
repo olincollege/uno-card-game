{
 "cells": [
  {
   "cell_type": "code",
   "execution_count": 15,
   "metadata": {},
   "outputs": [
    {
     "output_type": "stream",
     "name": "stdout",
     "text": [
      "The autoreload extension is already loaded. To reload it, use:\n  %reload_ext autoreload\n"
     ]
    }
   ],
   "source": [
    "%load_ext autoreload\n",
    "%autoreload 2"
   ]
  },
  {
   "cell_type": "code",
   "execution_count": 16,
   "metadata": {},
   "outputs": [],
   "source": [
    "from uno_deck import Deck\n",
    "from uno_deck import Player"
   ]
  },
  {
   "cell_type": "code",
   "execution_count": 17,
   "metadata": {},
   "outputs": [],
   "source": [
    "Uno = Deck()"
   ]
  },
  {
   "cell_type": "code",
   "execution_count": 18,
   "metadata": {},
   "outputs": [
    {
     "output_type": "stream",
     "name": "stdout",
     "text": [
      "[Red Reverse, Yellow 3, Blue Reverse, Red 8, Blue 8, Green 4, Yellow 3, Blue Draw Two, Red 7, Yellow 1, Green Draw Two, Blue 5, Red 6, Yellow Skip, Green 5, Blue 7, Red 1, Red 3, Green 8, Blue 2, Yellow 4, Red 4, Blue 7, Red 5, Yellow Reverse, Yellow 9, Green 6, Green 3, Blue 4, Blue 3, Red 7, Wild Card, Blue Reverse, Green 7, Blue 3, Yellow 9, Wild Card, Wild Card, Red 2, Blue 2, Green 9, Blue 0, Blue 9, Red Draw Two, Yellow 5, Yellow 5, Red Draw Two, Red 6, Blue 4, Yellow Draw Two, Red Skip, Red 8, Wild Card, Green Reverse, Yellow 6, Yellow Draw Two, Yellow 1, Green Draw Two, Red 3, Green 6, Green 5, Blue 1, Green 0, Wild Card, Wild Draw 4, Yellow Skip, Green 8, Red 9, Yellow 2, Wild Card, Yellow 8, Red 1, Yellow 4, Green 1, Red 2, Red 5, Blue Skip, Red Skip, Blue Draw Two, Wild Card, Wild Draw 4, Yellow Reverse, Wild Draw 4, Wild Draw 4, Green Reverse, Red 9, Blue 6, Red 0, Green 3, Blue 1, Blue 9, Green 2, Yellow 6, Green Skip, Green 7, Blue 8, Red 4, Yellow 7, Yellow 8, Blue 5, Yellow 7, Yellow 2, Yellow 0, Green 4, Green Skip, Green 1, Red Reverse, Blue 6, Blue Skip, Green 9, Green 2, Wild Card]\n"
     ]
    }
   ],
   "source": [
    "Uno.shuffle()\n",
    "print(Uno.cards)"
   ]
  },
  {
   "cell_type": "code",
   "execution_count": 19,
   "metadata": {},
   "outputs": [
    {
     "output_type": "execute_result",
     "data": {
      "text/plain": [
       "[Red Reverse,\n",
       " Yellow 3,\n",
       " Blue Reverse,\n",
       " Red 8,\n",
       " Blue 8,\n",
       " Green 4,\n",
       " Yellow 3,\n",
       " Blue Draw Two,\n",
       " Red 7,\n",
       " Yellow 1,\n",
       " Green Draw Two,\n",
       " Blue 5,\n",
       " Red 6,\n",
       " Yellow Skip,\n",
       " Green 5,\n",
       " Blue 7,\n",
       " Red 1,\n",
       " Red 3,\n",
       " Green 8,\n",
       " Blue 2,\n",
       " Yellow 4,\n",
       " Red 4,\n",
       " Blue 7,\n",
       " Red 5,\n",
       " Yellow Reverse,\n",
       " Yellow 9,\n",
       " Green 6,\n",
       " Green 3,\n",
       " Blue 4,\n",
       " Blue 3,\n",
       " Red 7,\n",
       " Wild Card,\n",
       " Blue Reverse,\n",
       " Green 7,\n",
       " Blue 3,\n",
       " Yellow 9,\n",
       " Wild Card,\n",
       " Wild Card,\n",
       " Red 2,\n",
       " Blue 2,\n",
       " Green 9,\n",
       " Blue 0,\n",
       " Blue 9,\n",
       " Red Draw Two,\n",
       " Yellow 5,\n",
       " Yellow 5,\n",
       " Red Draw Two,\n",
       " Red 6,\n",
       " Blue 4,\n",
       " Yellow Draw Two,\n",
       " Red Skip,\n",
       " Red 8,\n",
       " Wild Card,\n",
       " Green Reverse,\n",
       " Yellow 6,\n",
       " Yellow Draw Two,\n",
       " Yellow 1,\n",
       " Green Draw Two,\n",
       " Red 3,\n",
       " Green 6,\n",
       " Green 5,\n",
       " Blue 1,\n",
       " Green 0,\n",
       " Wild Card,\n",
       " Wild Draw 4,\n",
       " Yellow Skip,\n",
       " Green 8,\n",
       " Red 9,\n",
       " Yellow 2,\n",
       " Wild Card,\n",
       " Yellow 8,\n",
       " Red 1,\n",
       " Yellow 4,\n",
       " Green 1,\n",
       " Red 2,\n",
       " Red 5,\n",
       " Blue Skip,\n",
       " Red Skip,\n",
       " Blue Draw Two,\n",
       " Wild Card,\n",
       " Wild Draw 4,\n",
       " Yellow Reverse,\n",
       " Wild Draw 4,\n",
       " Wild Draw 4,\n",
       " Green Reverse,\n",
       " Red 9,\n",
       " Blue 6,\n",
       " Red 0,\n",
       " Green 3,\n",
       " Blue 1,\n",
       " Blue 9,\n",
       " Green 2,\n",
       " Yellow 6,\n",
       " Green Skip,\n",
       " Green 7,\n",
       " Blue 8,\n",
       " Red 4,\n",
       " Yellow 7,\n",
       " Yellow 8,\n",
       " Blue 5,\n",
       " Yellow 7,\n",
       " Yellow 2,\n",
       " Yellow 0,\n",
       " Green 4,\n",
       " Green Skip,\n",
       " Green 1,\n",
       " Red Reverse,\n",
       " Blue 6,\n",
       " Blue Skip,\n",
       " Green 9,\n",
       " Green 2,\n",
       " Wild Card]"
      ]
     },
     "metadata": {},
     "execution_count": 19
    }
   ],
   "source": [
    "Uno.cards"
   ]
  },
  {
   "cell_type": "code",
   "execution_count": 20,
   "metadata": {},
   "outputs": [
    {
     "output_type": "stream",
     "name": "stdout",
     "text": [
      "[Red Reverse, Yellow 3, Blue Reverse, Red 8, Blue 8, Green 4, Yellow 3]\n"
     ]
    }
   ],
   "source": [
    "player_1 = Player(Uno)\n",
    "print(player_1._hand)"
   ]
  },
  {
   "cell_type": "code",
   "execution_count": 21,
   "metadata": {},
   "outputs": [
    {
     "output_type": "execute_result",
     "data": {
      "text/plain": [
       "[Blue Draw Two,\n",
       " Red 7,\n",
       " Yellow 1,\n",
       " Green Draw Two,\n",
       " Blue 5,\n",
       " Red 6,\n",
       " Yellow Skip,\n",
       " Green 5,\n",
       " Blue 7,\n",
       " Red 1,\n",
       " Red 3,\n",
       " Green 8,\n",
       " Blue 2,\n",
       " Yellow 4,\n",
       " Red 4,\n",
       " Blue 7,\n",
       " Red 5,\n",
       " Yellow Reverse,\n",
       " Yellow 9,\n",
       " Green 6,\n",
       " Green 3,\n",
       " Blue 4,\n",
       " Blue 3,\n",
       " Red 7,\n",
       " Wild Card,\n",
       " Blue Reverse,\n",
       " Green 7,\n",
       " Blue 3,\n",
       " Yellow 9,\n",
       " Wild Card,\n",
       " Wild Card,\n",
       " Red 2,\n",
       " Blue 2,\n",
       " Green 9,\n",
       " Blue 0,\n",
       " Blue 9,\n",
       " Red Draw Two,\n",
       " Yellow 5,\n",
       " Yellow 5,\n",
       " Red Draw Two,\n",
       " Red 6,\n",
       " Blue 4,\n",
       " Yellow Draw Two,\n",
       " Red Skip,\n",
       " Red 8,\n",
       " Wild Card,\n",
       " Green Reverse,\n",
       " Yellow 6,\n",
       " Yellow Draw Two,\n",
       " Yellow 1,\n",
       " Green Draw Two,\n",
       " Red 3,\n",
       " Green 6,\n",
       " Green 5,\n",
       " Blue 1,\n",
       " Green 0,\n",
       " Wild Card,\n",
       " Wild Draw 4,\n",
       " Yellow Skip,\n",
       " Green 8,\n",
       " Red 9,\n",
       " Yellow 2,\n",
       " Wild Card,\n",
       " Yellow 8,\n",
       " Red 1,\n",
       " Yellow 4,\n",
       " Green 1,\n",
       " Red 2,\n",
       " Red 5,\n",
       " Blue Skip,\n",
       " Red Skip,\n",
       " Blue Draw Two,\n",
       " Wild Card,\n",
       " Wild Draw 4,\n",
       " Yellow Reverse,\n",
       " Wild Draw 4,\n",
       " Wild Draw 4,\n",
       " Green Reverse,\n",
       " Red 9,\n",
       " Blue 6,\n",
       " Red 0,\n",
       " Green 3,\n",
       " Blue 1,\n",
       " Blue 9,\n",
       " Green 2,\n",
       " Yellow 6,\n",
       " Green Skip,\n",
       " Green 7,\n",
       " Blue 8,\n",
       " Red 4,\n",
       " Yellow 7,\n",
       " Yellow 8,\n",
       " Blue 5,\n",
       " Yellow 7,\n",
       " Yellow 2,\n",
       " Yellow 0,\n",
       " Green 4,\n",
       " Green Skip,\n",
       " Green 1,\n",
       " Red Reverse,\n",
       " Blue 6,\n",
       " Blue Skip,\n",
       " Green 9,\n",
       " Green 2,\n",
       " Wild Card]"
      ]
     },
     "metadata": {},
     "execution_count": 21
    }
   ],
   "source": [
    "Uno.cards"
   ]
  },
  {
   "cell_type": "code",
   "execution_count": 27,
   "metadata": {},
   "outputs": [
    {
     "output_type": "execute_result",
     "data": {
      "text/plain": [
       "[Red Reverse, Yellow 3, Blue Reverse, Red 8, Blue 8, Green 4, Yellow 3]"
      ]
     },
     "metadata": {},
     "execution_count": 27
    }
   ],
   "source": [
    "player_1.hand"
   ]
  },
  {
   "cell_type": "code",
   "execution_count": 30,
   "metadata": {},
   "outputs": [
    {
     "output_type": "stream",
     "name": "stdout",
     "text": [
      "Successful card play\n[Red Reverse, Yellow 3, Blue Reverse, Red 8, Blue 8, Green 4, Yellow 3]\n"
     ]
    }
   ],
   "source": [
    "player_1.play_card(player_1.hand[1])"
   ]
  },
  {
   "cell_type": "code",
   "execution_count": null,
   "metadata": {},
   "outputs": [],
   "source": []
  }
 ],
 "metadata": {
  "kernelspec": {
   "name": "python385jvsc74a57bd0260690d7ac04fdbcd9c6f8efa93e31d8a25398d3e23f9493d65478f1ac089f35",
   "display_name": "Python 3.8.5 64-bit ('base': conda)"
  },
  "language_info": {
   "codemirror_mode": {
    "name": "ipython",
    "version": 3
   },
   "file_extension": ".py",
   "mimetype": "text/x-python",
   "name": "python",
   "nbconvert_exporter": "python",
   "pygments_lexer": "ipython3",
   "version": "3.8.5"
  },
  "metadata": {
   "interpreter": {
    "hash": "260690d7ac04fdbcd9c6f8efa93e31d8a25398d3e23f9493d65478f1ac089f35"
   }
  }
 },
 "nbformat": 4,
 "nbformat_minor": 4
}