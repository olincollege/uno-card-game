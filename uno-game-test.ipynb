{
 "cells": [
  {
   "cell_type": "code",
   "execution_count": 2,
   "metadata": {},
   "outputs": [
    {
     "name": "stdout",
     "output_type": "stream",
     "text": [
      "The autoreload extension is already loaded. To reload it, use:\n",
      "  %reload_ext autoreload\n"
     ]
    }
   ],
   "source": [
    "%load_ext autoreload\n",
    "%autoreload 2"
   ]
  },
  {
   "cell_type": "code",
   "execution_count": 3,
   "metadata": {},
   "outputs": [],
   "source": [
    "from uno_deck import Deck\n",
    "from uno_deck import Player"
   ]
  },
  {
   "cell_type": "code",
   "execution_count": 4,
   "metadata": {},
   "outputs": [],
   "source": [
    "Uno = Deck()"
   ]
  },
  {
   "cell_type": "code",
   "execution_count": 13,
   "metadata": {},
   "outputs": [
    {
     "name": "stdout",
     "output_type": "stream",
     "text": [
      "105\n"
     ]
    }
   ],
   "source": [
    "Uno.shuffle()\n",
    "print(Uno.cards)"
   ]
  },
  {
   "cell_type": "code",
   "execution_count": 6,
   "metadata": {},
   "outputs": [
    {
     "data": {
      "text/plain": [
       "[Yellow 7,\n",
       " Yellow 1,\n",
       " Blue 8,\n",
       " Yellow Draw Two,\n",
       " Yellow 5,\n",
       " Wild Card,\n",
       " Red Draw Two,\n",
       " Blue 6,\n",
       " Red 2,\n",
       " Red 7,\n",
       " Blue Draw Two,\n",
       " Yellow 9,\n",
       " Yellow Reverse,\n",
       " Blue 7,\n",
       " Green Skip,\n",
       " Wild Card,\n",
       " Red 5,\n",
       " Wild Draw 4,\n",
       " Wild Card,\n",
       " Yellow 3,\n",
       " Green 4,\n",
       " Yellow 4,\n",
       " Green 7,\n",
       " Green 2,\n",
       " Red Reverse,\n",
       " Red Reverse,\n",
       " Red 6,\n",
       " Green Reverse,\n",
       " Red 1,\n",
       " Yellow 6,\n",
       " Yellow 8,\n",
       " Green 7,\n",
       " Green 0,\n",
       " Blue 9,\n",
       " Green 4,\n",
       " Green 2,\n",
       " Red 4,\n",
       " Blue 3,\n",
       " Blue Reverse,\n",
       " Red 3,\n",
       " Green 1,\n",
       " Blue 4,\n",
       " Blue 2,\n",
       " Red 0,\n",
       " Blue 5,\n",
       " Green 8,\n",
       " Wild Draw 4,\n",
       " Wild Card,\n",
       " Yellow 7,\n",
       " Green 5,\n",
       " Blue 6,\n",
       " Blue Draw Two,\n",
       " Green Reverse,\n",
       " Wild Draw 4,\n",
       " Blue 1,\n",
       " Blue 4,\n",
       " Red 3,\n",
       " Wild Card,\n",
       " Green 6,\n",
       " Green 6,\n",
       " Yellow Skip,\n",
       " Red Skip,\n",
       " Yellow Draw Two,\n",
       " Yellow 8,\n",
       " Blue 2,\n",
       " Red 1,\n",
       " Green 9,\n",
       " Yellow 3,\n",
       " Blue 9,\n",
       " Red 8,\n",
       " Yellow 2,\n",
       " Red 5,\n",
       " Green Skip,\n",
       " Red 7,\n",
       " Green Draw Two,\n",
       " Blue Skip,\n",
       " Yellow Reverse,\n",
       " Red 6,\n",
       " Yellow 2,\n",
       " Wild Draw 4,\n",
       " Wild Card,\n",
       " Red 9,\n",
       " Wild Card,\n",
       " Blue 0,\n",
       " Red Skip,\n",
       " Red Draw Two,\n",
       " Blue 8,\n",
       " Green 1,\n",
       " Green 5,\n",
       " Green 3,\n",
       " Wild Card,\n",
       " Red 9,\n",
       " Yellow 5,\n",
       " Red 8,\n",
       " Yellow 1,\n",
       " Green 9,\n",
       " Green 8,\n",
       " Red 4,\n",
       " Blue 1,\n",
       " Yellow 0,\n",
       " Green 3,\n",
       " Blue 5,\n",
       " Blue 3,\n",
       " Green Draw Two,\n",
       " Blue Reverse,\n",
       " Yellow 9,\n",
       " Blue 7,\n",
       " Yellow 6,\n",
       " Red 2,\n",
       " Blue Skip,\n",
       " Yellow 4,\n",
       " Yellow Skip]"
      ]
     },
     "execution_count": 6,
     "metadata": {},
     "output_type": "execute_result"
    }
   ],
   "source": [
    "Uno.cards"
   ]
  },
  {
   "cell_type": "code",
   "execution_count": 7,
   "metadata": {},
   "outputs": [
    {
     "name": "stdout",
     "output_type": "stream",
     "text": [
      "[Yellow 7, Yellow 1, Blue 8, Yellow Draw Two, Yellow 5, Wild Card, Red Draw Two]\n"
     ]
    }
   ],
   "source": [
    "player_1 = Player(Uno)\n",
    "print(player_1._hand)"
   ]
  },
  {
   "cell_type": "code",
   "execution_count": 8,
   "metadata": {},
   "outputs": [
    {
     "data": {
      "text/plain": [
       "[Blue 6,\n",
       " Red 2,\n",
       " Red 7,\n",
       " Blue Draw Two,\n",
       " Yellow 9,\n",
       " Yellow Reverse,\n",
       " Blue 7,\n",
       " Green Skip,\n",
       " Wild Card,\n",
       " Red 5,\n",
       " Wild Draw 4,\n",
       " Wild Card,\n",
       " Yellow 3,\n",
       " Green 4,\n",
       " Yellow 4,\n",
       " Green 7,\n",
       " Green 2,\n",
       " Red Reverse,\n",
       " Red Reverse,\n",
       " Red 6,\n",
       " Green Reverse,\n",
       " Red 1,\n",
       " Yellow 6,\n",
       " Yellow 8,\n",
       " Green 7,\n",
       " Green 0,\n",
       " Blue 9,\n",
       " Green 4,\n",
       " Green 2,\n",
       " Red 4,\n",
       " Blue 3,\n",
       " Blue Reverse,\n",
       " Red 3,\n",
       " Green 1,\n",
       " Blue 4,\n",
       " Blue 2,\n",
       " Red 0,\n",
       " Blue 5,\n",
       " Green 8,\n",
       " Wild Draw 4,\n",
       " Wild Card,\n",
       " Yellow 7,\n",
       " Green 5,\n",
       " Blue 6,\n",
       " Blue Draw Two,\n",
       " Green Reverse,\n",
       " Wild Draw 4,\n",
       " Blue 1,\n",
       " Blue 4,\n",
       " Red 3,\n",
       " Wild Card,\n",
       " Green 6,\n",
       " Green 6,\n",
       " Yellow Skip,\n",
       " Red Skip,\n",
       " Yellow Draw Two,\n",
       " Yellow 8,\n",
       " Blue 2,\n",
       " Red 1,\n",
       " Green 9,\n",
       " Yellow 3,\n",
       " Blue 9,\n",
       " Red 8,\n",
       " Yellow 2,\n",
       " Red 5,\n",
       " Green Skip,\n",
       " Red 7,\n",
       " Green Draw Two,\n",
       " Blue Skip,\n",
       " Yellow Reverse,\n",
       " Red 6,\n",
       " Yellow 2,\n",
       " Wild Draw 4,\n",
       " Wild Card,\n",
       " Red 9,\n",
       " Wild Card,\n",
       " Blue 0,\n",
       " Red Skip,\n",
       " Red Draw Two,\n",
       " Blue 8,\n",
       " Green 1,\n",
       " Green 5,\n",
       " Green 3,\n",
       " Wild Card,\n",
       " Red 9,\n",
       " Yellow 5,\n",
       " Red 8,\n",
       " Yellow 1,\n",
       " Green 9,\n",
       " Green 8,\n",
       " Red 4,\n",
       " Blue 1,\n",
       " Yellow 0,\n",
       " Green 3,\n",
       " Blue 5,\n",
       " Blue 3,\n",
       " Green Draw Two,\n",
       " Blue Reverse,\n",
       " Yellow 9,\n",
       " Blue 7,\n",
       " Yellow 6,\n",
       " Red 2,\n",
       " Blue Skip,\n",
       " Yellow 4,\n",
       " Yellow Skip]"
      ]
     },
     "execution_count": 8,
     "metadata": {},
     "output_type": "execute_result"
    }
   ],
   "source": [
    "Uno.cards"
   ]
  },
  {
   "cell_type": "code",
   "execution_count": 9,
   "metadata": {},
   "outputs": [
    {
     "data": {
      "text/plain": [
       "[Yellow 7,\n",
       " Yellow 1,\n",
       " Blue 8,\n",
       " Yellow Draw Two,\n",
       " Yellow 5,\n",
       " Wild Card,\n",
       " Red Draw Two]"
      ]
     },
     "execution_count": 9,
     "metadata": {},
     "output_type": "execute_result"
    }
   ],
   "source": [
    "player_1.hand"
   ]
  },
  {
   "cell_type": "code",
   "execution_count": 10,
   "metadata": {},
   "outputs": [
    {
     "name": "stdout",
     "output_type": "stream",
     "text": [
      "Successful card play\n",
      "[Yellow 7, Yellow 1, Blue 8, Yellow Draw Two, Yellow 5, Wild Card, Red Draw Two]\n"
     ]
    }
   ],
   "source": [
    "player_1.play_card(player_1.hand[1])"
   ]
  },
  {
   "cell_type": "code",
   "execution_count": null,
   "metadata": {},
   "outputs": [],
   "source": []
  }
 ],
 "metadata": {
  "kernelspec": {
   "display_name": "Python 3",
   "language": "python",
   "name": "python3"
  },
  "language_info": {
   "codemirror_mode": {
    "name": "ipython",
    "version": 3
   },
   "file_extension": ".py",
   "mimetype": "text/x-python",
   "name": "python",
   "nbconvert_exporter": "python",
   "pygments_lexer": "ipython3",
   "version": "3.8.5"
  },
  "metadata": {
   "interpreter": {
    "hash": "260690d7ac04fdbcd9c6f8efa93e31d8a25398d3e23f9493d65478f1ac089f35"
   }
  }
 },
 "nbformat": 4,
 "nbformat_minor": 4
}
